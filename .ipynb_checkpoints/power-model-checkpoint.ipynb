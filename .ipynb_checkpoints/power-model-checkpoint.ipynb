{
 "cells": [
  {
   "cell_type": "markdown",
   "id": "19001305-6be6-4433-98ae-62885677c257",
   "metadata": {},
   "source": [
    "## Imports"
   ]
  },
  {
   "cell_type": "code",
   "execution_count": null,
   "id": "779dc672-d642-4f55-b8b9-8f6a30d29d15",
   "metadata": {},
   "outputs": [],
   "source": [
    "from datetime import datetime, timedelta\n",
    "import logging\n",
    "import pandas as pd\n",
    "import numpy as np\n",
    "\n",
    "from prometheus_api_client import MetricRangeDataFrame, PrometheusConnect\n",
    "\n",
    "import sklearn\n",
    "from sklearn.datasets import fetch_california_housing\n",
    "\n",
    "from sklearn.linear_model import LinearRegression\n",
    "from sklearn.preprocessing import PolynomialFeatures\n",
    "from sklearn.tree import DecisionTreeRegressor\n",
    "from sklearn.ensemble import RandomForestRegressor\n",
    "from sklearn.svm import SVR\n",
    "from sklearn.neural_network import MLPRegressor\n",
    "\n",
    "from xgboost import XGBRegressor\n",
    "\n",
    "\n",
    "from sklearn.pipeline import make_pipeline\n",
    "from sklearn.metrics import mean_squared_error, r2_score\n",
    "from sklearn.metrics import mean_absolute_percentage_error\n",
    "from sklearn.model_selection import train_test_split\n",
    "from sklearn.utils import Bunch\n",
    "\n",
    "import matplotlib.pyplot as plt"
   ]
  },
  {
   "cell_type": "markdown",
   "id": "fce986a4-8603-41ec-976a-3b47629c4788",
   "metadata": {},
   "source": [
    "## Constants"
   ]
  },
  {
   "cell_type": "code",
   "execution_count": null,
   "id": "5f5b931d-1404-4049-a8e7-ec7d95dcb1eb",
   "metadata": {},
   "outputs": [],
   "source": [
    "PROM_URL = \"http://localhost:9090\"\n",
    "RATE_INTERVAL = \"20s\"\n",
    "\n",
    "METRIC_BPF_CPU_TIME = \"kepler_process_bpf_cpu_time_ms_total\"\n",
    "QUERY_BPF_CPU_TIME = \"sum(rate(kepler_process_bpf_cpu_time_ms_total{}[{}]))\"\n",
    "COLUMNS_COMMAND_PID = ['command', 'pid']\n",
    "\n",
    "METRIC_CPU_INSTRUCTIONS = \"kepler_process_cpu_instructions_total\"\n",
    "QUERY_CPU_INSTRUCTIONS = \"sum(rate(kepler_process_cpu_instructions_total{}[{}]))\"\n",
    "\n",
    "METRIC_CPU_CYCLES = \"kepler_process_cpu_cycles_total\"\n",
    "QUERY_CPU_CYCLES = \"sum(rate(kepler_process_cpu_cycles_total{}[{}]))\"\n",
    "\n",
    "METRIC_PKG_JOULES_TOTAL = \"kepler_node_package_joules_total\"\n",
    "QUERY_KEPLER_PKG_JOULES_TOTAL = \"sum(rate(kepler_node_package_joules_total{}[{}]))\"\n",
    "\n",
    "METRIC_VM_PKG_JOULES_TOTAL = \"kepler_vm_package_joules_total\"\n",
    "QUERY_KEPLER_VM_PKG_JOULES_TOTAL = \"sum(rate(kepler_vm_package_joules_total{}[{}]))\"\n",
    "\n",
    "METRIC_VM_CPU_CYCLES_TOTAL = \"kepler_vm_cpu_cycles_total\"\n",
    "QUERY_KEPLER_VM_CPU_CYCLES_TOTAL = \"sum(rate(kepler_vm_cpu_cycles_total{}[{}]))\"\n",
    "\n",
    "METRIC_VM_CPU_INSTRUCTIONS_TOTAL = \"kepler_vm_cpu_instructions_total\"\n",
    "QUERY_KEPLER_VM_CPU_INSTRUCTIONS_TOTAL = \"sum(rate(kepler_vm_cpu_instructions_total{}[{}]))\"\n",
    "\n",
    "\n",
    "METRIC_NODE_RAPL_PKG_JOULES_TOTAL = \"node_rapl_package_joules_total\"\n",
    "QUERY_NODE_RAPL_PKG_JOULES_TOTAL = \"sum(rate(node_rapl_package_joules_total{}[{}]))\"\n",
    "LABEL_RAPL_PATH = \"/host/sys/class/powercap/intel-rapl:0\"\n",
    "\n",
    "METRIC_NODE_CPU_SCALING_FREQUENCY_HERTZ = \"node_cpu_scaling_frequency_hertz\"\n",
    "QUERY_NODE_CPU_SCALING_FREQUENCY_HERTZ = \"sum(node_cpu_scaling_frequency_hertz{})\"\n",
    "LABEL_RAPL_PATH = \"/host/sys/class/powercap/intel-rapl:0\"\n",
    "\n",
    "JOB_DEV = {\"job\":\"dev\"}\n",
    "JOB_METAL = {\"job\":\"metal\"}\n",
    "JOB_VM = {\"job\":\"vm\"}\n",
    "JOB_NODE_EXPORTER = {\"job\":\"node-exporter\"}\n",
    "COMMAND_STRESS = {\"command\": \".*stress.*\"}\n",
    "\n",
    "METRIC_UP = \"up\""
   ]
  },
  {
   "cell_type": "markdown",
   "id": "e667544e-acdd-438d-93a5-3a94aff262bb",
   "metadata": {},
   "source": [
    "## Set log level"
   ]
  },
  {
   "cell_type": "code",
   "execution_count": null,
   "id": "2590479e-375e-4e32-9ea4-59f1d08b933a",
   "metadata": {},
   "outputs": [],
   "source": [
    "logging.basicConfig(level=logging.ERROR)"
   ]
  },
  {
   "cell_type": "code",
   "execution_count": null,
   "id": "439b6b2f-b54a-4722-a3e1-a6072b394dd4",
   "metadata": {},
   "outputs": [],
   "source": [
    "def train_lr(data):\n",
    "    X = data.drop('PRICE', axis=1)\n",
    "    y = data['PRICE']\n",
    "    X_train, X_test, y_train, y_test = train_test_split(X, y, test_size=0.2, random_state=42)\n",
    "    model = LinearRegression()\n",
    "    model.fit(X_train, y_train)\n",
    "    y_pred = model.predict(X_test)\n",
    "    mse = mean_squared_error(y_test, y_pred)\n",
    "    r2 = r2_score(y_test, y_pred)\n",
    "    print(f\"Mean Squared Error: {mse}\")\n",
    "    print(f\"R^2 Score: {r2}\")\n",
    "    print(\"Coefficients:\")\n",
    "    for feature, coef in zip(X.columns, model.coef_):\n",
    "        print(f\"{feature}: {coef}\")\n",
    "    return model"
   ]
  },
  {
   "cell_type": "code",
   "execution_count": null,
   "id": "df8ce296-4bb7-4d32-b108-d8eb7b26af9a",
   "metadata": {},
   "outputs": [],
   "source": [
    "def test_california_housing():\n",
    "    california: Bunch = fetch_california_housing()\n",
    "    data: pd.DataFrame = pd.DataFrame(california.data, columns=california.feature_names)\n",
    "    data['PRICE'] = california.target\n",
    "    print(data.head())\n",
    "    data.plot()\n",
    "    plt.show()\n",
    "    model = train_lr(data)\n",
    "    return model"
   ]
  },
  {
   "cell_type": "raw",
   "id": "45d9615d-7c81-4fb9-af3d-cdb9df2bb54e",
   "metadata": {},
   "source": [
    "test_california_housing()"
   ]
  },
  {
   "cell_type": "code",
   "execution_count": null,
   "id": "16fd6531-6d29-4d6d-84fb-c276850936b3",
   "metadata": {},
   "outputs": [],
   "source": [
    "def fetch_prometheus_data(start_time, end_time, query, rename_value_column, columns=[], label_config: dict = None):\n",
    "    try:\n",
    "        prom = PrometheusConnect(url=PROM_URL, disable_ssl=True)\n",
    "        if label_config:\n",
    "            label_list = [str(key + \"=~\" + \"'\" + label_config[key] + \"'\") for key in label_config]\n",
    "            labels = \"{\" + \",\".join(label_list) + \"}\"\n",
    "        else:\n",
    "            labels = \"\"\n",
    "\n",
    "        if \"rate(\" in query:\n",
    "            query = query.format(labels, RATE_INTERVAL)\n",
    "        else:\n",
    "            query = query.format(labels)\n",
    "\n",
    "        metric_data = prom.custom_query_range(query=query, start_time=start_time, end_time=end_time, step=\"1s\")\n",
    "        if not metric_data:\n",
    "            raise ValueError(f\"No data found for metric: {query}\")\n",
    "        #print(metric_data)\n",
    "        metric_df = MetricRangeDataFrame(data=metric_data, columns=(columns + ['timestamp', 'value']), ts_as_datetime=False)\n",
    "        metric_df.index = metric_df.index.astype('int64')\n",
    "        metric_df.rename(columns={'value': rename_value_column}, inplace=True)\n",
    "        metric_df = metric_df.sort_values(by='timestamp')\n",
    "        return metric_df\n",
    "    except Exception as e:\n",
    "        import traceback\n",
    "        print(f\"An error occurred: {e}\")\n",
    "        traceback.print_exc()\n",
    "        return pd.DataFrame()"
   ]
  },
  {
   "cell_type": "code",
   "execution_count": null,
   "id": "4121bdc5-2730-4187-98c0-f7d61c365e9d",
   "metadata": {},
   "outputs": [],
   "source": [
    "def printDF(df: pd.DataFrame):\n",
    "    df_name = df.attrs['name']\n",
    "    print(f\"{df_name} shape: {df.shape}, Columns: {df.columns}, Index={df.index}\")\n",
    "    print(df)"
   ]
  },
  {
   "cell_type": "markdown",
   "id": "a4d46a67-a45e-48e5-a585-088f92bb04f4",
   "metadata": {},
   "source": [
    "## Start and end time"
   ]
  },
  {
   "cell_type": "code",
   "execution_count": null,
   "id": "87646fd9-c193-4a62-898d-c6568afcb8fa",
   "metadata": {},
   "outputs": [],
   "source": [
    "duration_5_min = 1000 * 60 * 5\n",
    "duration_10_min = 1000 * 60 * 10\n",
    "duration_20_min = 1000 * 60 * 20\n",
    "duration_30_min = 1000 * 60 * 30\n",
    "duration_45_min = 1000 * 60 * 45\n",
    "duration_1_hour = 1000 * 60 * 60\n",
    "duration_2_hour = duration_1_hour * 2\n",
    "\n",
    "\n",
    "\n",
    "end_time = datetime.now()\n",
    "#end_time = datetime.fromtimestamp(1726759800)\n",
    "\n",
    "\n",
    "duration = duration_1_hour\n",
    "\n",
    "start_time = end_time - timedelta(milliseconds=duration)\n",
    "#start_time = 1726633800\n",
    "#start_time = datetime.fromtimestamp(1726752600)\n"
   ]
  },
  {
   "cell_type": "markdown",
   "id": "19f9ae09-ed86-47f4-a2c2-e4cf2ff7cfab",
   "metadata": {},
   "source": [
    "## Query prometheus and get the following data frames\n",
    " - `bpf_cpu_time_df`: bpf cpu time for all processes, from kepler\n",
    " - `rapl_pkg_joules_df` : rapl power from Node Exporter\n",
    " - `kepler_pkg_joules_df` : kepler process package joules\n",
    " - `cpu_inst_df` : cpu instructions for all processes, from kepler"
   ]
  },
  {
   "cell_type": "code",
   "execution_count": null,
   "id": "dbcf7d31-f45c-490a-923c-f55d3c867eb1",
   "metadata": {},
   "outputs": [],
   "source": [
    "bpf_cpu_time_df = fetch_prometheus_data(\n",
    "    start_time=start_time,\n",
    "    end_time=end_time,\n",
    "    query=QUERY_BPF_CPU_TIME,\n",
    "    rename_value_column='bpf_cpu_time',\n",
    "    label_config=JOB_METAL,\n",
    "    #columns=COLUMNS_COMMAND_PID\n",
    "    )\n",
    "bpf_cpu_time_df.attrs = {\"name\": \"bpf_cpu_time_df\"}\n",
    "#printDF(bpf_cpu_time_df)"
   ]
  },
  {
   "cell_type": "code",
   "execution_count": null,
   "id": "a93256e6-70a7-4027-bfd7-8d544a58a4e5",
   "metadata": {},
   "outputs": [],
   "source": [
    "vm_bpf_cpu_time_df = fetch_prometheus_data(\n",
    "    start_time=start_time,\n",
    "    end_time=end_time,\n",
    "    query=QUERY_BPF_CPU_TIME,\n",
    "    rename_value_column='vm_bpf_cpu_time',\n",
    "    label_config=JOB_VM,\n",
    "    #columns=COLUMNS_COMMAND_PID\n",
    "    )\n",
    "vm_bpf_cpu_time_df.attrs = {\"name\": \"vm_bpf_cpu_time_df\"}\n",
    "#printDF(vm_bpf_cpu_time_df)"
   ]
  },
  {
   "cell_type": "code",
   "execution_count": null,
   "id": "d3a7bcc5-0d62-4412-a510-2d3950fb3439",
   "metadata": {},
   "outputs": [],
   "source": [
    "rapl_pkg_joules_df = fetch_prometheus_data(\n",
    "    start_time=start_time,\n",
    "    end_time=end_time,\n",
    "    query=QUERY_NODE_RAPL_PKG_JOULES_TOTAL,\n",
    "    rename_value_column='rapl_pkg_joules',\n",
    "    label_config=JOB_NODE_EXPORTER)\n",
    "rapl_pkg_joules_df.attrs = {\"name\": \"rapl_pkg_joules_df\"}\n",
    "#printDF(rapl_pkg_joules_df)"
   ]
  },
  {
   "cell_type": "code",
   "execution_count": null,
   "id": "11cac20f-e674-401f-9ec6-9f1e94476e83",
   "metadata": {},
   "outputs": [],
   "source": [
    "kepler_node_pkg_joules_df = fetch_prometheus_data(\n",
    "    start_time=start_time,\n",
    "    end_time=end_time,\n",
    "    query=QUERY_KEPLER_PKG_JOULES_TOTAL,\n",
    "    rename_value_column='kepler_node_pkg_joules',\n",
    "    label_config=JOB_METAL,\n",
    "    columns=COLUMNS_COMMAND_PID)\n",
    "kepler_node_pkg_joules_df.attrs = {\"name\": \"kepler_node_pkg_joules_df\"}\n",
    "#printDF(kepler_node_pkg_joules_df)"
   ]
  },
  {
   "cell_type": "code",
   "execution_count": null,
   "id": "478dce60-a053-45c2-9837-70dd43358aa6",
   "metadata": {},
   "outputs": [],
   "source": [
    "kepler_vm_pkg_joules_df = fetch_prometheus_data(\n",
    "    start_time=start_time,\n",
    "    end_time=end_time,\n",
    "    query=QUERY_KEPLER_VM_PKG_JOULES_TOTAL,\n",
    "    rename_value_column='kepler_vm_pkg_joules',\n",
    "    label_config=JOB_METAL,\n",
    "    columns=COLUMNS_COMMAND_PID)\n",
    "kepler_vm_pkg_joules_df.attrs = {\"name\": \"kepler_vm_pkg_joules_df\"}\n",
    "#printDF(kepler_pkg_joules_df)"
   ]
  },
  {
   "cell_type": "code",
   "execution_count": null,
   "id": "8f02ab58-356d-44eb-8f12-aeafe4a6b869",
   "metadata": {},
   "outputs": [],
   "source": [
    "cpu_inst_df = fetch_prometheus_data(\n",
    "    start_time=start_time,\n",
    "    end_time=end_time,\n",
    "    query=QUERY_CPU_INSTRUCTIONS,\n",
    "    rename_value_column='cpu_instructions',\n",
    "    label_config=JOB_METAL,\n",
    "    columns=COLUMNS_COMMAND_PID)\n",
    "cpu_inst_df.attrs = {\"name\": \"cpu_inst_df\"}\n",
    "#printDF(cpu_inst_df)"
   ]
  },
  {
   "cell_type": "code",
   "execution_count": null,
   "id": "5b3f82dd-d3d3-4416-94d7-512a02ab332b",
   "metadata": {},
   "outputs": [],
   "source": [
    "cpu_cycles_df = fetch_prometheus_data(\n",
    "    start_time=start_time,\n",
    "    end_time=end_time,\n",
    "    query=QUERY_CPU_CYCLES,\n",
    "    rename_value_column='cpu_cycles',\n",
    "    label_config=JOB_METAL,\n",
    "    columns=COLUMNS_COMMAND_PID)\n",
    "cpu_cycles_df.attrs = {\"name\": \"cpu_cycles_df\"}    \n",
    "#printDF(cpu_cycles_df)"
   ]
  },
  {
   "cell_type": "code",
   "execution_count": null,
   "id": "d1c7be00-22a5-408b-bc00-210d75407b5b",
   "metadata": {
    "editable": true,
    "slideshow": {
     "slide_type": ""
    },
    "tags": []
   },
   "outputs": [],
   "source": [
    "cpu_scaling_freq_df = fetch_prometheus_data(\n",
    "    start_time=start_time,\n",
    "    end_time=end_time,\n",
    "    query=QUERY_NODE_CPU_SCALING_FREQUENCY_HERTZ,\n",
    "    rename_value_column='cpu_scaling_freq',\n",
    "    label_config=JOB_NODE_EXPORTER,\n",
    "    columns=COLUMNS_COMMAND_PID)\n",
    "cpu_scaling_freq_df.attrs = {\"name\": \"cpu_scaling_freq_df\"}    \n",
    "#printDF(cpu_scaling_freq_df)"
   ]
  },
  {
   "cell_type": "markdown",
   "id": "ffa6cd2e-c43b-4f43-90a3-08bc83c80b58",
   "metadata": {},
   "source": [
    "## Scale by num of CPUs"
   ]
  },
  {
   "cell_type": "code",
   "execution_count": null,
   "id": "14707388-33cb-4a3c-a59a-b54497f3f5f1",
   "metadata": {},
   "outputs": [],
   "source": [
    "num_cpus = 16\n",
    "\n",
    "#bpf_cpu_time_df['bpf_cpu_time'] = bpf_cpu_time_df['bpf_cpu_time'] / num_cpus\n",
    "#cpu_inst_df['cpu_instructions'] = cpu_inst_df['cpu_instructions'] / num_cpus\n",
    "#cpu_cycles_df['cpu_cycles'] = cpu_cycles_df['cpu_cycles'] / num_cpus\n",
    "\n",
    "#rapl_pkg_joules_df['rapl_pkg_joules'] = rapl_pkg_joules_df['rapl_pkg_joules'] / num_cpus\n"
   ]
  },
  {
   "cell_type": "markdown",
   "id": "312301dd-ae28-480b-87f6-f8a27d69f6ba",
   "metadata": {},
   "source": [
    "## Sample values"
   ]
  },
  {
   "cell_type": "code",
   "execution_count": null,
   "id": "2ec28d60-442a-4a1c-84e8-3e02500d4d63",
   "metadata": {},
   "outputs": [],
   "source": [
    "vm_bpf_cpu_time_df.sample"
   ]
  },
  {
   "cell_type": "code",
   "execution_count": null,
   "id": "cef5079c-f66a-4896-87ec-c4c2eb495850",
   "metadata": {
    "editable": true,
    "slideshow": {
     "slide_type": ""
    },
    "tags": []
   },
   "outputs": [],
   "source": [
    "rapl_pkg_joules_df.head()"
   ]
  },
  {
   "cell_type": "markdown",
   "id": "2dd13562-3754-40a3-b068-3b70f0be8936",
   "metadata": {},
   "source": [
    "## Plot 'em"
   ]
  },
  {
   "cell_type": "code",
   "execution_count": null,
   "id": "fc24b589-b26e-42a3-9f5f-1cf8bcc7458b",
   "metadata": {
    "editable": true,
    "slideshow": {
     "slide_type": ""
    },
    "tags": []
   },
   "outputs": [],
   "source": [
    "ax = vm_bpf_cpu_time_df['vm_bpf_cpu_time'].plot(label='vm_bpf_cpu_time')\n",
    "ax2 = ax.twinx()\n",
    "#rapl_pkg_joules_df.plot(ax = ax2, color='orange', label='rapl_pkg_joules')\n",
    "#kepler_pkg_joules_df.plot(ax = ax2, color='green', label='kepler_pkg_joules')\n",
    "kepler_vm_pkg_joules_df['kepler_vm_pkg_joules'].plot(ax = ax2, color='green', label='kepler_vm_pkg_joules')"
   ]
  },
  {
   "cell_type": "code",
   "execution_count": null,
   "id": "e0df310f-ea4a-4ae8-9129-2f7b7cca9e6a",
   "metadata": {
    "editable": true,
    "slideshow": {
     "slide_type": ""
    },
    "tags": []
   },
   "outputs": [],
   "source": [
    "#cpu_inst_df.plot()\n",
    "#cpu_cycles_df.plot()\n",
    "#cpu_scaling_freq_df\n",
    "#plt.show()"
   ]
  },
  {
   "cell_type": "code",
   "execution_count": null,
   "id": "4bca21f3-2a8f-4313-97c7-7ac4dea5d4a4",
   "metadata": {},
   "outputs": [],
   "source": [
    "#plt.scatter(x = bpf_cpu_time_df['bpf_cpu_time'], y = rapl_pkg_joules_df['rapl_pkg_joules'])\n",
    "plt.scatter(x = vm_bpf_cpu_time_df['vm_bpf_cpu_time'], y = kepler_vm_pkg_joules_df['kepler_vm_pkg_joules'])"
   ]
  },
  {
   "cell_type": "code",
   "execution_count": null,
   "id": "02dbf90b-c6ba-43e6-9601-093cb96bb9cc",
   "metadata": {},
   "outputs": [],
   "source": [
    "plt.scatter(x = bpf_cpu_time_df['bpf_cpu_time'], y = rapl_pkg_joules_df['rapl_pkg_joules'])"
   ]
  },
  {
   "cell_type": "code",
   "execution_count": null,
   "id": "10ab3486-33c8-4c34-92cc-8c91f585679c",
   "metadata": {},
   "outputs": [],
   "source": [
    "plt.scatter(x = cpu_cycles_df['cpu_cycles'], y = rapl_pkg_joules_df['rapl_pkg_joules'])"
   ]
  },
  {
   "cell_type": "raw",
   "id": "2bf98ca1-3c8d-41ae-bc91-eb230ad74985",
   "metadata": {
    "scrolled": true
   },
   "source": [
    "plt.scatter(x = cpu_scaling_freq_df['cpu_scaling_freq'], y = rapl_pkg_joules_df['rapl_pkg_joules'])"
   ]
  },
  {
   "cell_type": "markdown",
   "id": "24f65d16-509d-4ae9-9981-fcc7330add10",
   "metadata": {},
   "source": [
    "# Prepare input data for training"
   ]
  },
  {
   "cell_type": "code",
   "execution_count": null,
   "id": "232fcad8-673c-4046-bb2e-2950664bf8af",
   "metadata": {},
   "outputs": [],
   "source": [
    "#X = pd.DataFrame(bpf_cpu_time_df['bpf_cpu_time'], cpu_inst_df['cpu_instructions'])\n",
    "#X = bpf_cpu_time_df.drop(['command', 'pid', 'bpf_cpu_time_ratio'], axis =1)\n",
    "X = bpf_cpu_time_df\n",
    "#X['cpu_instructions'] = cpu_inst_df['cpu_instructions']\n",
    "#X['cpu_cycles'] = cpu_cycles_df['cpu_cycles']\n",
    "#X['cpu_scaling_freq'] = cpu_scaling_freq_df['cpu_scaling_freq']\n",
    "y = pd.DataFrame(kepler_vm_pkg_joules_df['kepler_vm_pkg_joules'])"
   ]
  },
  {
   "cell_type": "code",
   "execution_count": null,
   "id": "cbe7ca8e-c029-4776-9e7a-877d0fa87af0",
   "metadata": {},
   "outputs": [],
   "source": [
    "X.sample"
   ]
  },
  {
   "cell_type": "code",
   "execution_count": null,
   "id": "b2fb6d3e-09ad-4144-9930-f90b8d93700a",
   "metadata": {},
   "outputs": [],
   "source": [
    "X.columns"
   ]
  },
  {
   "cell_type": "code",
   "execution_count": null,
   "id": "70007b8e-fee2-42fa-8744-1899b33e6997",
   "metadata": {},
   "outputs": [],
   "source": [
    "X.shape"
   ]
  },
  {
   "cell_type": "code",
   "execution_count": null,
   "id": "a3b06ace-3ff6-48f4-9060-69e01d2f44b2",
   "metadata": {},
   "outputs": [],
   "source": [
    "y.sample"
   ]
  },
  {
   "cell_type": "markdown",
   "id": "3ebc24c8-5584-4470-870d-a446c4d994ac",
   "metadata": {},
   "source": [
    "# Split into training and test data"
   ]
  },
  {
   "cell_type": "code",
   "execution_count": null,
   "id": "7e77a63e-cd2c-45d1-82d5-900a8dbfbad5",
   "metadata": {},
   "outputs": [],
   "source": [
    "X_train, X_test, y_train, y_test = train_test_split(X, y, test_size=0.2, random_state=42)\n",
    "\n",
    "print(X_train.columns)\n",
    "X_train.sample"
   ]
  },
  {
   "cell_type": "markdown",
   "id": "2485b91b-e080-4f9d-9f09-dd8bdfc97251",
   "metadata": {},
   "source": [
    "# Train Models and test"
   ]
  },
  {
   "cell_type": "markdown",
   "id": "46cc152e-71e3-4d6a-bfd3-27eda21019e4",
   "metadata": {},
   "source": [
    "## Linear Regression"
   ]
  },
  {
   "cell_type": "code",
   "execution_count": null,
   "id": "bbd5f769-90b5-4282-8fa5-fc58dfe3afe3",
   "metadata": {},
   "outputs": [],
   "source": [
    "lr_model = LinearRegression()\n",
    "lr_model.fit(X_train, y_train)\n",
    "y_pred = lr_model.predict(X_test)\n",
    "mse = mean_squared_error(y_test, y_pred)\n",
    "r2 = r2_score(y_test, y_pred)\n",
    "mape = mean_absolute_percentage_error(y_test, y_pred) * 100\n",
    "\n",
    "print(f\"Mean Squared Error: {mse}\")\n",
    "print(f\"R^2 Score: {r2}\")\n",
    "print(f\"MAPE: {mape}\")\n",
    "print(\"Coefficients:\")\n",
    "for feature, coef in zip(X.columns, lr_model.coef_):\n",
    "    print(f\"{feature}: {coef}\")"
   ]
  },
  {
   "cell_type": "code",
   "execution_count": null,
   "id": "156f620a-b838-4911-9553-3630ffb691bb",
   "metadata": {},
   "outputs": [],
   "source": [
    "plt.scatter(x = y_test, y = y_pred)"
   ]
  },
  {
   "cell_type": "markdown",
   "id": "7213d520-e65f-4724-828f-18b5c7ccd1c4",
   "metadata": {},
   "source": [
    "## Polynomial Regression"
   ]
  },
  {
   "cell_type": "code",
   "execution_count": null,
   "id": "8c4785e8-0549-4605-b0fa-e78c78a042a0",
   "metadata": {},
   "outputs": [],
   "source": [
    "poly = PolynomialFeatures(degree=2)\n",
    "pr_model = make_pipeline(poly, LinearRegression())\n",
    "pr_model.fit(X_train, y_train)\n",
    "\n",
    "y_pred = pr_model.predict(X_test)\n",
    "mse = mean_squared_error(y_test, y_pred)\n",
    "r2 = r2_score(y_test, y_pred)\n",
    "mape = mean_absolute_percentage_error(y_test, y_pred) * 100\n",
    "\n",
    "\n",
    "print(f\"Mean Squared Error: {mse}\")\n",
    "print(f\"R^2 Score: {r2}\")\n",
    "print(f\"MAPE: {mape}\")\n",
    "\n",
    "#print(model)\n",
    "#print(\"Coefficients:\")\n",
    "#for feature, coef in zip(X.columns, model.coef_):\n",
    "#    print(f\"{feature}: {coef}\")\n"
   ]
  },
  {
   "cell_type": "code",
   "execution_count": null,
   "id": "a72fe4a7-65c2-49d4-810b-eddb41427f39",
   "metadata": {},
   "outputs": [],
   "source": [
    "plt.scatter(x = y_test, y = y_pred)"
   ]
  },
  {
   "cell_type": "markdown",
   "id": "63b158e9-70ac-4b67-a2c2-05a716acab8d",
   "metadata": {},
   "source": [
    "##  Logarithmic Transformation"
   ]
  },
  {
   "cell_type": "raw",
   "id": "80a84def-5b86-4143-a5be-c94d493af570",
   "metadata": {},
   "source": [
    "# Apply log transformation to the target variable\n",
    "y_log = np.log(y_train)\n",
    "\n",
    "# Fit a Linear Regression model\n",
    "lt_model = LinearRegression()\n",
    "lt_model.fit(X_train, y_log)\n",
    "\n",
    "# Predict and reverse log transformation\n",
    "y_pred_log = lt_model.predict(X_test)\n",
    "y_pred = np.exp(y_pred_log)\n",
    "\n",
    "mse = mean_squared_error(y_test, y_pred)\n",
    "r2 = r2_score(y_test, y_pred)\n",
    "\n",
    "print(f\"Mean Squared Error: {mse}\")\n",
    "print(f\"R^2 Score: {r2}\")\n",
    "\n"
   ]
  },
  {
   "cell_type": "raw",
   "id": "3a4d37c5-b0f7-4104-9f31-d6f527234e36",
   "metadata": {},
   "source": [
    "plt.scatter(x = y_test, y = y_pred)"
   ]
  },
  {
   "cell_type": "code",
   "execution_count": null,
   "id": "a5661a5f-79f9-4e2c-a214-ec82b8bd1420",
   "metadata": {},
   "outputs": [],
   "source": [
    "# Apply log transformation to the target variable\n",
    "X_train_log = np.log(X_train)\n",
    "\n",
    "# Fit a Linear Regression model\n",
    "lt_model = LinearRegression()\n",
    "lt_model.fit(X_train_log, y_train)\n",
    "\n",
    "# Predict and reverse log transformation\n",
    "X_test_log = np.log(X_test)\n",
    "y_pred = lt_model.predict(X_test_log)\n",
    "#y_pred_log = lt_model.predict(X_test)\n",
    "#y_pred = np.exp(y_pred_log)\n",
    "\n",
    "mse = mean_squared_error(y_test, y_pred)\n",
    "r2 = r2_score(y_test, y_pred)\n",
    "mape = mean_absolute_percentage_error(y_test, y_pred) * 100\n",
    "\n",
    "\n",
    "print(f\"Mean Squared Error: {mse}\")\n",
    "print(f\"R^2 Score: {r2}\")\n",
    "print(f\"MAPE: {mape}\")\n",
    "\n",
    "\n"
   ]
  },
  {
   "cell_type": "code",
   "execution_count": null,
   "id": "9e7fd2a2-82e9-4a43-829a-91d37fb07d15",
   "metadata": {},
   "outputs": [],
   "source": [
    "plt.scatter(x = y_test, y = y_pred)"
   ]
  },
  {
   "cell_type": "markdown",
   "id": "1bc3e170-2ec4-4b44-9cc1-c132e3a3672e",
   "metadata": {},
   "source": [
    "## Decision Trees"
   ]
  },
  {
   "cell_type": "code",
   "execution_count": null,
   "id": "57597551-8101-4ac9-ade1-7c7ce511954f",
   "metadata": {},
   "outputs": [],
   "source": [
    "dt_model = DecisionTreeRegressor(max_depth=5)  # Tune depth as necessary\n",
    "dt_model.fit(X_train, y_train)\n",
    "\n",
    "y_pred = dt_model.predict(X_test)\n",
    "\n",
    "\n",
    "mse = mean_squared_error(y_test, y_pred)\n",
    "r2 = r2_score(y_test, y_pred)\n",
    "mape = mean_absolute_percentage_error(y_test, y_pred) * 100\n",
    "\n",
    "\n",
    "print(f\"Mean Squared Error: {mse}\")\n",
    "print(f\"R^2 Score: {r2}\")\n",
    "print(f\"MAPE: {mape}\")\n"
   ]
  },
  {
   "cell_type": "code",
   "execution_count": null,
   "id": "97f477db-5995-4288-879d-5d6393a438fa",
   "metadata": {},
   "outputs": [],
   "source": [
    "plt.scatter(x = y_test, y = y_pred)"
   ]
  },
  {
   "cell_type": "markdown",
   "id": "6733b718-056a-47e1-a969-3d73f95ba113",
   "metadata": {},
   "source": [
    "## Random Forests"
   ]
  },
  {
   "cell_type": "code",
   "execution_count": null,
   "id": "4ff326a6-1793-44e3-b288-ee26aad538d6",
   "metadata": {},
   "outputs": [],
   "source": [
    "rf_model = RandomForestRegressor(n_estimators=100)\n",
    "rf_model.fit(X_train, y_train)\n",
    "\n",
    "y_pred = rf_model.predict(X_test)\n",
    "\n",
    "mse = mean_squared_error(y_test, y_pred)\n",
    "r2 = r2_score(y_test, y_pred)\n",
    "mape = mean_absolute_percentage_error(y_test, y_pred) * 100\n",
    "\n",
    "\n",
    "print(f\"Mean Squared Error: {mse}\")\n",
    "print(f\"R^2 Score: {r2}\")\n",
    "print(f\"MAPE: {mape}\")\n"
   ]
  },
  {
   "cell_type": "code",
   "execution_count": null,
   "id": "363dd771-7da5-457e-99e1-8f9165700517",
   "metadata": {},
   "outputs": [],
   "source": [
    "plt.scatter(x = y_test, y = y_pred)"
   ]
  },
  {
   "cell_type": "markdown",
   "id": "6d9b131a-71c1-41b9-86d2-8843104cc21d",
   "metadata": {},
   "source": [
    "##  Gradient Boosting (XGBoost)"
   ]
  },
  {
   "cell_type": "code",
   "execution_count": null,
   "id": "8da5f8ce-524e-447d-85c0-fef375620207",
   "metadata": {},
   "outputs": [],
   "source": [
    "gb_model = XGBRegressor()\n",
    "gb_model.fit(X_train, y_train)\n",
    "\n",
    "y_pred = gb_model.predict(X_test)\n",
    "\n",
    "mse = mean_squared_error(y_test, y_pred)\n",
    "r2 = r2_score(y_test, y_pred)\n",
    "mape = mean_absolute_percentage_error(y_test, y_pred) * 100\n",
    "\n",
    "\n",
    "print(f\"Mean Squared Error: {mse}\")\n",
    "print(f\"R^2 Score: {r2}\")\n",
    "print(f\"MAPE: {mape}\")\n"
   ]
  },
  {
   "cell_type": "code",
   "execution_count": null,
   "id": "6eaa3dd5-57a4-4d9e-bc02-5dfae495fefd",
   "metadata": {},
   "outputs": [],
   "source": [
    "plt.scatter(x = y_test, y = y_pred)"
   ]
  },
  {
   "cell_type": "markdown",
   "id": "02da20cf-f953-47c4-acca-b4e17bed831c",
   "metadata": {},
   "source": [
    "## Support Vector Regression (SVR)"
   ]
  },
  {
   "cell_type": "code",
   "execution_count": null,
   "id": "2402d0fb-6719-49e9-8582-4e7caaad220c",
   "metadata": {
    "editable": true,
    "slideshow": {
     "slide_type": ""
    },
    "tags": []
   },
   "outputs": [],
   "source": [
    "svr_model = SVR(kernel='rbf')  # Try 'poly' for polynomial kernel\n",
    "svr_model.fit(X_train, y_train)\n",
    "\n",
    "y_pred = svr_model.predict(X_test)\n",
    "\n",
    "mse = mean_squared_error(y_test, y_pred)\n",
    "r2 = r2_score(y_test, y_pred)\n",
    "mape = mean_absolute_percentage_error(y_test, y_pred) * 100\n",
    "\n",
    "\n",
    "print(f\"Mean Squared Error: {mse}\")\n",
    "print(f\"R^2 Score: {r2}\")\n",
    "print(f\"MAPE: {mape}\")\n"
   ]
  },
  {
   "cell_type": "code",
   "execution_count": null,
   "id": "a8bfa366-7ea3-4be2-b4ec-bf4e5628b7db",
   "metadata": {},
   "outputs": [],
   "source": [
    "plt.scatter(x = y_test, y = y_pred)"
   ]
  },
  {
   "cell_type": "markdown",
   "id": "ab27dbe6-6c33-4fba-ab9b-e22b5a15967e",
   "metadata": {},
   "source": [
    "# Model Validation"
   ]
  },
  {
   "cell_type": "markdown",
   "id": "cf614380-47f3-419f-ab0e-497ad6bb6656",
   "metadata": {},
   "source": [
    "## Set validation start and end time"
   ]
  },
  {
   "cell_type": "code",
   "execution_count": null,
   "id": "e221330d-b353-40d6-819a-0f4256cafdcf",
   "metadata": {},
   "outputs": [],
   "source": [
    "validation_end_time = datetime.now()\n",
    "#end_time = datetime.fromtimestamp(1727088375)\n",
    "\n",
    "validation_duration = duration_30_min\n",
    "\n",
    "validation_start_time = validation_end_time - timedelta(milliseconds=validation_duration)"
   ]
  },
  {
   "cell_type": "code",
   "execution_count": null,
   "id": "e0b6245a-0226-40df-8d5a-39be856d935c",
   "metadata": {},
   "outputs": [],
   "source": [
    "print(f\"start: {validation_start_time}\")\n",
    "print(f\"end  : {validation_end_time}\")"
   ]
  },
  {
   "cell_type": "markdown",
   "id": "bfbdfa9e-0693-4a42-820f-b21ec822cde5",
   "metadata": {},
   "source": [
    "## Validation on vm bpf cpu time"
   ]
  },
  {
   "cell_type": "markdown",
   "id": "fdd56da7-d4ed-49c5-afad-956438769e44",
   "metadata": {},
   "source": [
    "### Fetch new data"
   ]
  },
  {
   "cell_type": "code",
   "execution_count": null,
   "id": "fb155fd0-a6c7-447c-967c-b529c61dc94d",
   "metadata": {},
   "outputs": [],
   "source": [
    "vm_bpf_cpu_time_df = fetch_prometheus_data(\n",
    "    start_time=validation_start_time,\n",
    "    end_time=validation_end_time,\n",
    "    query=QUERY_BPF_CPU_TIME,\n",
    "    rename_value_column='bpf_cpu_time',\n",
    "    label_config=JOB_VM,    \n",
    "    #columns=COLUMNS_COMMAND_PID\n",
    "    )\n",
    "vm_bpf_cpu_time_df.attrs = {\"name\": \"vm_bpf_cpu_time_df\"}\n",
    "#printDF(vm_bpf_cpu_time_df)"
   ]
  },
  {
   "cell_type": "code",
   "execution_count": null,
   "id": "2b043851-0c9a-4c95-92c5-3c12806da92f",
   "metadata": {},
   "outputs": [],
   "source": [
    "rapl_pkg_joules_df = fetch_prometheus_data(\n",
    "    start_time=validation_start_time,\n",
    "    end_time=validation_end_time,\n",
    "    query=QUERY_NODE_RAPL_PKG_JOULES_TOTAL,\n",
    "    rename_value_column='rapl_pkg_joules',\n",
    "    label_config=JOB_NODE_EXPORTER|{\"path\": LABEL_RAPL_PATH})\n",
    "rapl_pkg_joules_df.attrs = {\"name\": \"rapl_pkg_joules_df\"}\n",
    "#printDF(rapl_pkg_joules_df)"
   ]
  },
  {
   "cell_type": "code",
   "execution_count": null,
   "id": "cb9f9ffa-5f4f-4c85-ab5f-1c62e29604f7",
   "metadata": {},
   "outputs": [],
   "source": [
    "kepler_pkg_joules_df = fetch_prometheus_data(\n",
    "    start_time=validation_start_time,\n",
    "    end_time=validation_end_time,\n",
    "    query=QUERY_KEPLER_PKG_JOULES_TOTAL,\n",
    "    rename_value_column='kepler_pkg_joules',\n",
    "    label_config=JOB_METAL,        \n",
    "    columns=COLUMNS_COMMAND_PID)\n",
    "kepler_pkg_joules_df.attrs = {\"name\": \"kepler_pkg_joules_df\"}\n",
    "#printDF(kepler_pkg_joules_df)"
   ]
  },
  {
   "cell_type": "code",
   "execution_count": null,
   "id": "a5b5a261-b022-4487-b7a6-d63bd3e7113c",
   "metadata": {},
   "outputs": [],
   "source": [
    "vm_pkg_joules_df = fetch_prometheus_data(\n",
    "    start_time=validation_start_time,\n",
    "    end_time=validation_end_time,\n",
    "    query=QUERY_KEPLER_VM_PKG_JOULES_TOTAL,\n",
    "    rename_value_column='vm_pkg_joules',\n",
    "    label_config=JOB_METAL)\n",
    "vm_pkg_joules_df.attrs = {\"name\": \"vm_pkg_joules_df\"}\n",
    "#printDF(vm_pkg_joules_df)"
   ]
  },
  {
   "cell_type": "code",
   "execution_count": null,
   "id": "301d3b0b-01a7-4f05-bebc-a9342684a677",
   "metadata": {},
   "outputs": [],
   "source": [
    "vm_cpu_inst_df = fetch_prometheus_data(\n",
    "    start_time=validation_start_time,\n",
    "    end_time=validation_end_time,\n",
    "    query=QUERY_CPU_INSTRUCTIONS,\n",
    "    rename_value_column='vm_cpu_instructions',\n",
    "    label_config=JOB_METAL,        \n",
    "    columns=COLUMNS_COMMAND_PID)\n",
    "vm_cpu_inst_df.attrs = {\"name\": \"vm_cpu_inst_df\"}\n",
    "#printDF(vm_cpu_inst_df)"
   ]
  },
  {
   "cell_type": "code",
   "execution_count": null,
   "id": "7a10c507-ca55-4312-8aed-1bbaf0b0b777",
   "metadata": {},
   "outputs": [],
   "source": [
    "vm_cpu_cycles_df = fetch_prometheus_data(\n",
    "    start_time=validation_start_time,\n",
    "    end_time=validation_end_time,\n",
    "    query=QUERY_CPU_CYCLES,\n",
    "    rename_value_column='vm_cpu_cycles',\n",
    "    label_config=JOB_METAL,            \n",
    "    columns=COLUMNS_COMMAND_PID)\n",
    "vm_cpu_cycles_df.attrs = {\"name\": \"vm_cpu_cycles_df\"}    \n",
    "#printDF(vm_cpu_cycles_df)"
   ]
  },
  {
   "cell_type": "code",
   "execution_count": null,
   "id": "49722506-d54c-4e2d-b9e7-d84e1fe4aa4a",
   "metadata": {},
   "outputs": [],
   "source": [
    "cpu_scaling_freq_df = fetch_prometheus_data(\n",
    "    start_time=validation_start_time,\n",
    "    end_time=validation_end_time,\n",
    "    query=QUERY_NODE_CPU_SCALING_FREQUENCY_HERTZ,\n",
    "    rename_value_column='cpu_scaling_freq',\n",
    "    label_config=JOB_NODE_EXPORTER,            \n",
    "    columns=COLUMNS_COMMAND_PID)\n",
    "cpu_scaling_freq_df.attrs = {\"name\": \"cpu_scaling_freq_df\"}    \n",
    "#printDF(cpu_scaling_freq_df)"
   ]
  },
  {
   "cell_type": "markdown",
   "id": "6155bd76-73c0-4f26-a937-cfd6a99dfa3c",
   "metadata": {},
   "source": [
    "### Scale by num of cpus"
   ]
  },
  {
   "cell_type": "code",
   "execution_count": null,
   "id": "a415ef68-c8b6-450a-b9d7-0e3c27f205ec",
   "metadata": {},
   "outputs": [],
   "source": [
    "num_vcpus = 2"
   ]
  },
  {
   "cell_type": "code",
   "execution_count": null,
   "id": "461e442f-4ebd-4adc-ba55-4395ec0ee6d0",
   "metadata": {},
   "outputs": [],
   "source": [
    "#vm_bpf_cpu_time_df['bpf_cpu_time'] = vm_bpf_cpu_time_df['bpf_cpu_time'] / num_vcpus\n",
    "#vm_cpu_inst_df['vm_cpu_instructions'] = vm_cpu_inst_df['vm_cpu_instructions'] / num_vcpus\n",
    "#vm_cpu_cycles_df['vm_cpu_cycles'] = vm_cpu_cycles_df['vm_cpu_cycles'] / num_vcpus"
   ]
  },
  {
   "cell_type": "markdown",
   "id": "ed7a4cf5-3bab-4235-b4b1-60fa16388f91",
   "metadata": {},
   "source": [
    "### prepare vm validation data"
   ]
  },
  {
   "cell_type": "code",
   "execution_count": null,
   "id": "56325a79-529d-4af1-aef4-8ede76de1018",
   "metadata": {},
   "outputs": [],
   "source": [
    "X = vm_bpf_cpu_time_df\n",
    "#X['cpu_instructions'] = vm_cpu_inst_df['vm_cpu_instructions']\n",
    "#X['cpu_cycles'] = vm_cpu_cycles_df['vm_cpu_cycles']\n",
    "#X['cpu_scaling_freq'] = cpu_scaling_freq_df['cpu_scaling_freq']"
   ]
  },
  {
   "cell_type": "code",
   "execution_count": null,
   "id": "446c936b-4b7c-491e-8cb1-06ab214d7af3",
   "metadata": {},
   "outputs": [],
   "source": [
    "#print(bpf_cpu_time_df.shape)\n",
    "#bpf_cpu_time_df.sample"
   ]
  },
  {
   "cell_type": "code",
   "execution_count": null,
   "id": "cc97f4a0-4434-4212-b170-e6830a7893b0",
   "metadata": {},
   "outputs": [],
   "source": [
    "X.sample"
   ]
  },
  {
   "cell_type": "code",
   "execution_count": null,
   "id": "9c4a7b1c-232a-42ec-9fd6-e166b6d8538a",
   "metadata": {},
   "outputs": [],
   "source": [
    "vm_pkg_joules_df.sample"
   ]
  },
  {
   "cell_type": "markdown",
   "id": "b5479e2c-a634-430e-91a7-d82d16d83cff",
   "metadata": {},
   "source": [
    "### Run Validations"
   ]
  },
  {
   "cell_type": "code",
   "execution_count": null,
   "id": "2cd93679-53c3-46e3-ab6d-0c49b6065c95",
   "metadata": {
    "editable": true,
    "slideshow": {
     "slide_type": ""
    },
    "tags": []
   },
   "outputs": [],
   "source": [
    "trained_models = {\"LinearRegression\":lr_model}|{\"PolynomialRegression\":pr_model}|{\"DecisionTree\":dt_model}|{\"RandomForest\":rf_model}|{\"XGBoost\":gb_model}|{\"SVR\":svr_model}|{\"LogarithmicTransformation\":lt_model}\n",
    "test_models = {\"LinearRegression\":lr_model}|{\"PolynomialRegression\":pr_model}|{\"XGBoost\":gb_model}\n",
    "\n",
    "\n",
    "plt.plot(X['bpf_cpu_time'])\n",
    "plt.show()\n",
    "plt.plot(vm_pkg_joules_df['vm_pkg_joules'])\n",
    "plt.show()\n",
    "\n",
    "\n",
    "for model_name, model in test_models.items():\n",
    "    ax = vm_pkg_joules_df['vm_pkg_joules'].plot(legend=\"vm_pkg_joules\")\n",
    "    #ax2 = ax.twinx()\n",
    "    \n",
    "    x_test = X\n",
    "    print(f\"Model : {model_name}\")\n",
    "    if model_name == \"LogarithmicTransformation\":\n",
    "        x_test = np.log(X)\n",
    "    y_pred = model.predict(x_test)\n",
    "    #y_pred = y_pred * num_vcpus\n",
    "    mse = mean_squared_error(vm_pkg_joules_df['vm_pkg_joules'], y_pred)\n",
    "    r2 = r2_score(vm_pkg_joules_df['vm_pkg_joules'], y_pred)\n",
    "    mape = mean_absolute_percentage_error(vm_pkg_joules_df['vm_pkg_joules'], y_pred) * 100\n",
    "\n",
    "    \n",
    "    \n",
    "    print(f\"Mean Squared Error (MSE)         : {mse}\")\n",
    "    print(f\"Mean Abs percentage Error (MAPE) : {mape}\")    \n",
    "    print(f\"R^2 Score                        : {r2}\")    \n",
    "    df = pd.DataFrame(y_pred, index=vm_pkg_joules_df.index, columns=[model_name])\n",
    "    corr = df.corrwith(vm_pkg_joules_df['vm_pkg_joules'])   \n",
    "    corr_value = corr[model_name]\n",
    "    print(f\"Correlation        : {corr_value:4f}\")\n",
    "    \n",
    "    df.plot(ax = ax, color=\"orange\", legend=model_name)\n",
    "\n",
    "\n",
    "    plt.legend()\n",
    "    plt.show()"
   ]
  },
  {
   "cell_type": "code",
   "execution_count": null,
   "id": "c4b6cbc8-85a8-4633-9ef7-21bbee61f2c6",
   "metadata": {
    "editable": true,
    "slideshow": {
     "slide_type": ""
    },
    "tags": []
   },
   "outputs": [],
   "source": [
    "trained_models = {\"LinearRegression\":lr_model}|{\"PolynomialRegression\":pr_model}|{\"DecisionTree\":dt_model}|{\"RandomForest\":rf_model}|{\"XGBoost\":gb_model}|{\"SVR\":svr_model}|{\"LogarithmicTransformation\":lt_model}\n",
    "test_models = {\"LinearRegression\":lr_model}|{\"PolynomialRegression\":pr_model}|{\"XGBoost\":gb_model}\n",
    "\n",
    "for model_name, model in test_models.items():\n",
    "    ax = rapl_pkg_joules_df['rapl_pkg_joules'].plot(legend=\"rapl_pkg_joules\")\n",
    "    #ax2 = ax.twinx()\n",
    "    \n",
    "    x_test = X\n",
    "    print(f\"Model : {model_name}\")\n",
    "    if model_name == \"LogarithmicTransformation\":\n",
    "        x_test = np.log(X)\n",
    "    y_pred = model.predict(x_test)\n",
    "    #y_pred = y_pred * num_vcpus\n",
    "    mse = mean_squared_error(rapl_pkg_joules_df['rapl_pkg_joules'], y_pred)\n",
    "    r2 = r2_score(rapl_pkg_joules_df['rapl_pkg_joules'], y_pred)\n",
    "    mape = mean_absolute_percentage_error(rapl_pkg_joules_df['rapl_pkg_joules'], y_pred) * 100\n",
    "\n",
    "    \n",
    "    \n",
    "    print(f\"Mean Squared Error (MSE)         : {mse}\")\n",
    "    print(f\"Mean Abs percentage Error (MAPE) : {mape}\")    \n",
    "    print(f\"R^2 Score                        : {r2}\")    \n",
    "    df = pd.DataFrame(y_pred, index=rapl_pkg_joules_df.index, columns=[model_name])\n",
    "    corr = df.corrwith(rapl_pkg_joules_df['rapl_pkg_joules'])   \n",
    "    corr_value = corr[model_name]\n",
    "    print(f\"Correlation        : {corr_value:4f}\")\n",
    "    \n",
    "    df.plot(ax = ax, color=\"orange\", legend=model_name)\n",
    "\n",
    "\n",
    "    plt.legend()\n",
    "    plt.show()"
   ]
  }
 ],
 "metadata": {
  "kernelspec": {
   "display_name": "my-power-model",
   "language": "python",
   "name": "my-power-model"
  },
  "language_info": {
   "codemirror_mode": {
    "name": "ipython",
    "version": 3
   },
   "file_extension": ".py",
   "mimetype": "text/x-python",
   "name": "python",
   "nbconvert_exporter": "python",
   "pygments_lexer": "ipython3",
   "version": "3.12.5"
  }
 },
 "nbformat": 4,
 "nbformat_minor": 5
}
